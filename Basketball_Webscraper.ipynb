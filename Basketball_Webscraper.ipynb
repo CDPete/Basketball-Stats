{
 "cells": [
  {
   "cell_type": "markdown",
   "metadata": {},
   "source": [
    "<h1 style='text-align: center; font-size: 48px; background: #DEDEDE; padding: 25px 10px; border-radius: 25px;'>Basketball Webscraper</h1>\n",
    "\n",
    "<br>\n",
    "\n",
    "\n",
    "    \n",
    "Simple webscraper for NBA data using three different sources.\n"
   ]
  },
  {
   "cell_type": "markdown",
   "metadata": {},
   "source": [
    "<h1 style= 'text-align: center; font-size: 32px; padding: 25px 10px; background: #DEDEDE; border-radius: 25px;'>Table of Contents</h1>\n",
    "\n",
    "\n",
    "\n",
    "## 1. [Setup](#setup)\n",
    "### &nbsp; &nbsp; &nbsp; 1.1  [Import Packages](#packages)\n",
    "### &nbsp; &nbsp; &nbsp; 1.2  [PostgreSQL Connection](#sql)\n",
    "## 2. [Webscraping](#webscraping)\n",
    "### &nbsp; &nbsp; &nbsp; 2.1  [Player Data](#player)\n",
    "### &nbsp; &nbsp; &nbsp; 2.2  [Team Data](#team)\n",
    "### &nbsp; &nbsp; &nbsp; 2.3  [MVP Data](#mvp)\n",
    "## 3. [Upload Datasets](#upload)\n"
   ]
  },
  {
   "cell_type": "markdown",
   "metadata": {
    "id": "AZ4P4clKYN6x"
   },
   "source": [
    "<a class='anchor' id= setup></a>\n",
    "<h2 style= 'text-align: center; font-size: 32px; padding: 25px 10px; background: #DEDEDE; border-radius: 25px;'>Setup</h2>\n",
    "\n",
    "\n",
    "<a class='anchor' id= packages></a>\n",
    "<h3>Import Packages</h3> "
   ]
  },
  {
   "cell_type": "code",
   "execution_count": 130,
   "metadata": {
    "id": "Zn4kLErJCUk8"
   },
   "outputs": [],
   "source": [
    "import pandas as pd\n",
    "import numpy as np\n",
    "import requests\n",
    "import time\n",
    "import psycopg2\n",
    "from sqlalchemy import create_engine\n",
    "from bs4 import BeautifulSoup\n",
    "from Keyfile import key_fun #Custom file to hide postgreSQL Server information"
   ]
  },
  {
   "cell_type": "markdown",
   "metadata": {},
   "source": [
    "<a class='anchor' id= sql></a>\n",
    "<h3>PostgreSQL Connection</h3> "
   ]
  },
  {
   "cell_type": "code",
   "execution_count": 131,
   "metadata": {
    "colab": {
     "base_uri": "https://localhost:8080/",
     "height": 442
    },
    "id": "uw3xBNdjOY2c",
    "outputId": "eaeccb35-a4b5-400f-88f4-cc2069ea18d2"
   },
   "outputs": [],
   "source": [
    "key = key_fun()\n",
    "\n",
    "engine = create_engine('postgresql://' + key['username'] + ':' + key['pwd'] + '@localhost:' + \n",
    "                       key['port_id'] + '/' + key['database'])"
   ]
  },
  {
   "cell_type": "markdown",
   "metadata": {},
   "source": [
    "<a class='anchor' id= 'webscraping'></a>\n",
    "<h2 style= 'text-align: center; font-size: 32px; padding: 25px 10px; background: #DEDEDE; border-radius: 25px;'>Webscraping</h2>\n",
    "\n",
    "<br>\n",
    "\n",
    "<center><strong>Sites Scraped</strong></center>\n",
    "\n",
    "|Data|Site|Link|\n",
    "|:---|:---|:---:|\n",
    "| Player | NBA.com |<a href= 'https://www.nba.com/stats/leaders?Season=2022-23&SeasonType=Regular+Season&PerMode=Totals'>Link 1</a>|\n",
    "| Team | ESPN |<a href = 'https://www.espn.com/nba/standings'>Link 2</a></li>|\n",
    "| MVP | Basketball-Reference |<a href = 'https://www.basketball-reference.com/awards/mvp.html'>Link 3</a>|\n",
    "|<img width=250/>|<img width=250/>|<img width=250/>|\n"
   ]
  },
  {
   "cell_type": "markdown",
   "metadata": {
    "id": "g2cF4XEgcyFV"
   },
   "source": [
    "<a class='anchor' id= player></a>\n",
    "<h3>Player Data</h3>\n",
    "\n",
    "<br>\n",
    "\n",
    "<div style= 'padding: 14px 14px;'>\n",
    "Though it is nice that NBA.com provides an API, we will need to scrape data across multiple pages for different seasons. Thankfully the urls follow a predictable pattern:\n",
    "    \n",
    "<br>\n",
    "\n",
    "<u>stats.nba.com/stats/leagueLeaders?LeagueID=00&PerMode=Totals&Scope=S&Season=**2021-22**&SeasonType=Regular%20Season&StatCategory=PTS</u>    \n",
    "    \n",
    "<u>stats.nba.com/stats/leagueLeaders?LeagueID=00&PerMode=Totals&Scope=S&Season=**2022-23**&SeasonType=Regular%20Season&StatCategory=PTS</u>\n",
    "\n",
    "\n",
    "<br>\n",
    "\n",
    "The website contains data from the 1951-52 season through the 2022-23 season as of writing this. Generating a list of the desired dates is simple enough. Now it's possible to iterate over all the desired pages.\n",
    "</div>"
   ]
  },
  {
   "cell_type": "code",
   "execution_count": 132,
   "metadata": {},
   "outputs": [],
   "source": [
    "seasons = [str(x) + '-' + str(x+1)[2:] for x in range(1951,2023)]"
   ]
  },
  {
   "cell_type": "markdown",
   "metadata": {},
   "source": [
    "<div style= 'padding: 14px 14px;'>\n",
    "    Using the headers from the webpage, create a <strong>header_index</strong> dictionary to keep track of which data value is being collected at each index. The main reason this is used is to simplify iteration later. The same result could be achieved using a list, but dictionary look ups are faster. The <strong>player_index</strong> dictionary organizes the stats being collected to simplify creating a dataframe later.\n",
    "</div>"
   ]
  },
  {
   "cell_type": "code",
   "execution_count": 133,
   "metadata": {
    "id": "DfOAWemXc53H"
   },
   "outputs": [],
   "source": [
    "page_url = \"https://stats.nba.com/stats/leagueLeaders?LeagueID=00&PerMode=Totals&Scope=S&Season=2022-23&SeasonType=Regular%20Season&StatCategory=PTS\"\n",
    "page=requests.get(url = page_url).json()\n",
    "headers = page['resultSet']['headers']\n",
    "\n",
    "header_index = {i : header for i, header in enumerate(headers)}\n",
    "player_data = {header: [] for header in headers}\n",
    "player_data['SEASON'] = []"
   ]
  },
  {
   "cell_type": "markdown",
   "metadata": {
    "id": "JyqH6U1ZCQA4"
   },
   "source": [
    "<div style= 'padding: 14px 14px;'>\n",
    "Webpages are scraped one by one with a slight delay between API requests. Stats are uploaded to the player_data dictionary and a <strong>SEASON</strong> column is added to keep track of which season the data represents.\n",
    "</div>"
   ]
  },
  {
   "cell_type": "code",
   "execution_count": 134,
   "metadata": {
    "id": "4If6BnFl5rqY"
   },
   "outputs": [],
   "source": [
    "for season in seasons:\n",
    "    time.sleep(2)\n",
    "    \n",
    "    page_url = \"https://stats.nba.com/stats/leagueLeaders?LeagueID=00&PerMode=Totals&Scope=S&Season=\" + season + \"&SeasonType=Regular%20Season&StatCategory=PTS\"\n",
    "    page=requests.get(url = page_url).json()\n",
    "    players = page['resultSet']['rowSet']\n",
    "\n",
    "    for player in players:\n",
    "        for i, stat in enumerate(player):\n",
    "            player_data[ header_index[i] ].append(stat)\n",
    "        player_data[ 'SEASON' ].append(season)"
   ]
  },
  {
   "cell_type": "markdown",
   "metadata": {
    "id": "-fMg5QuwCXny"
   },
   "source": [
    "<div style= 'padding: 14px 14px;'>\n",
    "The dictionary is then converted into a pandas dataframe.\n",
    "</div>"
   ]
  },
  {
   "cell_type": "code",
   "execution_count": 135,
   "metadata": {
    "colab": {
     "base_uri": "https://localhost:8080/",
     "height": 424
    },
    "id": "66zMWdjIgNdg",
    "outputId": "4051f2c3-c7bc-42ec-f1ad-a264f01ead3b"
   },
   "outputs": [
    {
     "data": {
      "text/html": [
       "<div>\n",
       "<style scoped>\n",
       "    .dataframe tbody tr th:only-of-type {\n",
       "        vertical-align: middle;\n",
       "    }\n",
       "\n",
       "    .dataframe tbody tr th {\n",
       "        vertical-align: top;\n",
       "    }\n",
       "\n",
       "    .dataframe thead th {\n",
       "        text-align: right;\n",
       "    }\n",
       "</style>\n",
       "<table border=\"1\" class=\"dataframe\">\n",
       "  <thead>\n",
       "    <tr style=\"text-align: right;\">\n",
       "      <th></th>\n",
       "      <th>PLAYER_ID</th>\n",
       "      <th>RANK</th>\n",
       "      <th>PLAYER</th>\n",
       "      <th>TEAM_ID</th>\n",
       "      <th>TEAM</th>\n",
       "      <th>GP</th>\n",
       "      <th>MIN</th>\n",
       "      <th>FGM</th>\n",
       "      <th>FGA</th>\n",
       "      <th>FG_PCT</th>\n",
       "      <th>...</th>\n",
       "      <th>AST</th>\n",
       "      <th>STL</th>\n",
       "      <th>BLK</th>\n",
       "      <th>TOV</th>\n",
       "      <th>PF</th>\n",
       "      <th>PTS</th>\n",
       "      <th>EFF</th>\n",
       "      <th>AST_TOV</th>\n",
       "      <th>STL_TOV</th>\n",
       "      <th>SEASON</th>\n",
       "    </tr>\n",
       "  </thead>\n",
       "  <tbody>\n",
       "    <tr>\n",
       "      <th>0</th>\n",
       "      <td>76056</td>\n",
       "      <td>1</td>\n",
       "      <td>Paul Arizin</td>\n",
       "      <td>1610612744</td>\n",
       "      <td>PHW</td>\n",
       "      <td>66</td>\n",
       "      <td>2939</td>\n",
       "      <td>548</td>\n",
       "      <td>1222</td>\n",
       "      <td>0.448</td>\n",
       "      <td>...</td>\n",
       "      <td>170</td>\n",
       "      <td>NaN</td>\n",
       "      <td>NaN</td>\n",
       "      <td>NaN</td>\n",
       "      <td>250</td>\n",
       "      <td>1674</td>\n",
       "      <td>1786</td>\n",
       "      <td>NaN</td>\n",
       "      <td>NaN</td>\n",
       "      <td>1951-52</td>\n",
       "    </tr>\n",
       "    <tr>\n",
       "      <th>1</th>\n",
       "      <td>600012</td>\n",
       "      <td>2</td>\n",
       "      <td>George Mikan</td>\n",
       "      <td>1610612747</td>\n",
       "      <td>MNL</td>\n",
       "      <td>64</td>\n",
       "      <td>2572</td>\n",
       "      <td>545</td>\n",
       "      <td>1414</td>\n",
       "      <td>0.385</td>\n",
       "      <td>...</td>\n",
       "      <td>194</td>\n",
       "      <td>NaN</td>\n",
       "      <td>NaN</td>\n",
       "      <td>NaN</td>\n",
       "      <td>286</td>\n",
       "      <td>1523</td>\n",
       "      <td>1592</td>\n",
       "      <td>NaN</td>\n",
       "      <td>NaN</td>\n",
       "      <td>1951-52</td>\n",
       "    </tr>\n",
       "    <tr>\n",
       "      <th>2</th>\n",
       "      <td>600003</td>\n",
       "      <td>3</td>\n",
       "      <td>Bob Cousy</td>\n",
       "      <td>1610612738</td>\n",
       "      <td>BOS</td>\n",
       "      <td>66</td>\n",
       "      <td>2681</td>\n",
       "      <td>512</td>\n",
       "      <td>1388</td>\n",
       "      <td>0.369</td>\n",
       "      <td>...</td>\n",
       "      <td>441</td>\n",
       "      <td>NaN</td>\n",
       "      <td>NaN</td>\n",
       "      <td>NaN</td>\n",
       "      <td>190</td>\n",
       "      <td>1433</td>\n",
       "      <td>1322</td>\n",
       "      <td>NaN</td>\n",
       "      <td>NaN</td>\n",
       "      <td>1951-52</td>\n",
       "    </tr>\n",
       "    <tr>\n",
       "      <th>3</th>\n",
       "      <td>77429</td>\n",
       "      <td>4</td>\n",
       "      <td>Ed Macauley</td>\n",
       "      <td>1610612738</td>\n",
       "      <td>BOS</td>\n",
       "      <td>66</td>\n",
       "      <td>2631</td>\n",
       "      <td>384</td>\n",
       "      <td>888</td>\n",
       "      <td>0.432</td>\n",
       "      <td>...</td>\n",
       "      <td>232</td>\n",
       "      <td>NaN</td>\n",
       "      <td>NaN</td>\n",
       "      <td>NaN</td>\n",
       "      <td>174</td>\n",
       "      <td>1264</td>\n",
       "      <td>1396</td>\n",
       "      <td>NaN</td>\n",
       "      <td>NaN</td>\n",
       "      <td>1951-52</td>\n",
       "    </tr>\n",
       "    <tr>\n",
       "      <th>4</th>\n",
       "      <td>76514</td>\n",
       "      <td>5</td>\n",
       "      <td>Bob Davies</td>\n",
       "      <td>1610612758</td>\n",
       "      <td>ROC</td>\n",
       "      <td>65</td>\n",
       "      <td>2394</td>\n",
       "      <td>379</td>\n",
       "      <td>990</td>\n",
       "      <td>0.383</td>\n",
       "      <td>...</td>\n",
       "      <td>390</td>\n",
       "      <td>NaN</td>\n",
       "      <td>NaN</td>\n",
       "      <td>NaN</td>\n",
       "      <td>269</td>\n",
       "      <td>1052</td>\n",
       "      <td>935</td>\n",
       "      <td>NaN</td>\n",
       "      <td>NaN</td>\n",
       "      <td>1951-52</td>\n",
       "    </tr>\n",
       "  </tbody>\n",
       "</table>\n",
       "<p>5 rows × 29 columns</p>\n",
       "</div>"
      ],
      "text/plain": [
       "   PLAYER_ID  RANK        PLAYER     TEAM_ID TEAM  GP   MIN  FGM   FGA  \\\n",
       "0      76056     1   Paul Arizin  1610612744  PHW  66  2939  548  1222   \n",
       "1     600012     2  George Mikan  1610612747  MNL  64  2572  545  1414   \n",
       "2     600003     3     Bob Cousy  1610612738  BOS  66  2681  512  1388   \n",
       "3      77429     4   Ed Macauley  1610612738  BOS  66  2631  384   888   \n",
       "4      76514     5    Bob Davies  1610612758  ROC  65  2394  379   990   \n",
       "\n",
       "   FG_PCT  ...  AST  STL  BLK  TOV   PF   PTS   EFF  AST_TOV  STL_TOV   SEASON  \n",
       "0   0.448  ...  170  NaN  NaN  NaN  250  1674  1786      NaN      NaN  1951-52  \n",
       "1   0.385  ...  194  NaN  NaN  NaN  286  1523  1592      NaN      NaN  1951-52  \n",
       "2   0.369  ...  441  NaN  NaN  NaN  190  1433  1322      NaN      NaN  1951-52  \n",
       "3   0.432  ...  232  NaN  NaN  NaN  174  1264  1396      NaN      NaN  1951-52  \n",
       "4   0.383  ...  390  NaN  NaN  NaN  269  1052   935      NaN      NaN  1951-52  \n",
       "\n",
       "[5 rows x 29 columns]"
      ]
     },
     "execution_count": 135,
     "metadata": {},
     "output_type": "execute_result"
    }
   ],
   "source": [
    "df_players = pd.DataFrame.from_dict(player_data)\n",
    "df_players.head()"
   ]
  },
  {
   "cell_type": "markdown",
   "metadata": {},
   "source": [
    "<a class='anchor' id= team></a>\n",
    "<h3>Team Data</h3>\n",
    "\n",
    "<br>\n",
    "\n",
    "<div style= 'padding: 14px 14px;'>\n",
    "The data from the team is also important when selecting MVP. Particularly in recent years, a teams overall record and standing seem to factor into the MVP discussion. The best players on bad teams are often overlooked by their more winning counterparts. That being said, it is necessary to also acquire data from the teams from each season. \n",
    "  \n",
    "<br>\n",
    "    \n",
    "The two dictionaries below simplify data collection and organization.\n",
    "</div>"
   ]
  },
  {
   "cell_type": "code",
   "execution_count": 145,
   "metadata": {},
   "outputs": [],
   "source": [
    "index2cat= {\n",
    "    0: 'W',\n",
    "    1: 'L',\n",
    "    2: 'PCT',\n",
    "    3: 'GB',\n",
    "    4: 'HOME',\n",
    "    5: 'AWAY',\n",
    "    6: 'DIV',\n",
    "    7: 'CONF',\n",
    "    8: 'PPG',\n",
    "    9: 'OPPPPG',\n",
    "    10: 'DIFF',\n",
    "    11: 'STRK',\n",
    "    12: 'L10'\n",
    "}\n",
    "\n",
    "team_data = {\n",
    "    'W': [],\n",
    "    'L': [],\n",
    "    'PCT': [],\n",
    "    'GB': [],\n",
    "    'HOME': [],\n",
    "    'AWAY': [],\n",
    "    'DIV': [],\n",
    "    'CONF': [],\n",
    "    'PPG': [],\n",
    "    'OPPPPG': [],\n",
    "    'DIFF': [],\n",
    "    'STRK': [],\n",
    "    'L10': [],\n",
    "    'TEAM': [],\n",
    "    'SEASON': []\n",
    "}"
   ]
  },
  {
   "cell_type": "markdown",
   "metadata": {},
   "source": [
    "<div style= 'padding: 14px 14px;'>\n",
    "The webscraping loop for the team data. This loop is similar to one used to collect player data. The main difference is the other loop used an API, whereas the setup of this requires sifting through the html for the desired data.\n",
    "</div>"
   ]
  },
  {
   "cell_type": "code",
   "execution_count": 146,
   "metadata": {},
   "outputs": [],
   "source": [
    "seasons = [str(x) for x in range(2003,2024)]\n",
    "for season in seasons:\n",
    "    time.sleep(3)\n",
    "    \n",
    "    page_url = \"https://www.espn.com/nba/standings/_/sort/gamesbehind/dir/asc/season/\" + season\n",
    "    r = requests.get(page_url)\n",
    "    soup = BeautifulSoup(r.content, 'html.parser')\n",
    "    \n",
    "    for team in soup.find_all('abbr'): team_data['TEAM'].append(team.get_text())\n",
    "\n",
    "    for i, stat in enumerate(soup.find_all('span', class_ = 'stat-cell')):\n",
    "        team_data[ index2cat[ i%13 ] ].append(stat.get_text())\n",
    "        \n",
    "        if i%13 == 0:\n",
    "            team_data['SEASON'].append( str(int(season)-1) + '-' + season[2:] )\n",
    "        \n"
   ]
  },
  {
   "cell_type": "markdown",
   "metadata": {},
   "source": [
    "<div style= 'padding: 14px 14px;'>\n",
    "Some of the teams present have abbreviations that are not consistent with those from the player dataset. Since the vision is to later merge these two datasets using SEASON and TEAM as keys, the inconsistencies will need to be corrected.\n",
    "</div>"
   ]
  },
  {
   "cell_type": "code",
   "execution_count": 147,
   "metadata": {},
   "outputs": [
    {
     "data": {
      "text/html": [
       "<div>\n",
       "<style scoped>\n",
       "    .dataframe tbody tr th:only-of-type {\n",
       "        vertical-align: middle;\n",
       "    }\n",
       "\n",
       "    .dataframe tbody tr th {\n",
       "        vertical-align: top;\n",
       "    }\n",
       "\n",
       "    .dataframe thead th {\n",
       "        text-align: right;\n",
       "    }\n",
       "</style>\n",
       "<table border=\"1\" class=\"dataframe\">\n",
       "  <thead>\n",
       "    <tr style=\"text-align: right;\">\n",
       "      <th></th>\n",
       "      <th>W</th>\n",
       "      <th>L</th>\n",
       "      <th>PCT</th>\n",
       "      <th>GB</th>\n",
       "      <th>HOME</th>\n",
       "      <th>AWAY</th>\n",
       "      <th>DIV</th>\n",
       "      <th>CONF</th>\n",
       "      <th>PPG</th>\n",
       "      <th>OPPPPG</th>\n",
       "      <th>DIFF</th>\n",
       "      <th>STRK</th>\n",
       "      <th>L10</th>\n",
       "      <th>TEAM</th>\n",
       "      <th>SEASON</th>\n",
       "    </tr>\n",
       "  </thead>\n",
       "  <tbody>\n",
       "    <tr>\n",
       "      <th>0</th>\n",
       "      <td>50</td>\n",
       "      <td>32</td>\n",
       "      <td>.610</td>\n",
       "      <td>-</td>\n",
       "      <td>30-11</td>\n",
       "      <td>20-21</td>\n",
       "      <td>19-9</td>\n",
       "      <td>0-0</td>\n",
       "      <td>91.4</td>\n",
       "      <td>87.7</td>\n",
       "      <td>+3.7</td>\n",
       "      <td>L1</td>\n",
       "      <td>4-6</td>\n",
       "      <td>DET</td>\n",
       "      <td>2002-03</td>\n",
       "    </tr>\n",
       "    <tr>\n",
       "      <th>1</th>\n",
       "      <td>49</td>\n",
       "      <td>33</td>\n",
       "      <td>.598</td>\n",
       "      <td>1</td>\n",
       "      <td>33-8</td>\n",
       "      <td>16-25</td>\n",
       "      <td>16-8</td>\n",
       "      <td>0-0</td>\n",
       "      <td>95.4</td>\n",
       "      <td>90.1</td>\n",
       "      <td>+5.3</td>\n",
       "      <td>L2</td>\n",
       "      <td>5-5</td>\n",
       "      <td>NJN</td>\n",
       "      <td>2002-03</td>\n",
       "    </tr>\n",
       "    <tr>\n",
       "      <th>2</th>\n",
       "      <td>48</td>\n",
       "      <td>34</td>\n",
       "      <td>.585</td>\n",
       "      <td>2</td>\n",
       "      <td>32-9</td>\n",
       "      <td>16-25</td>\n",
       "      <td>19-9</td>\n",
       "      <td>0-0</td>\n",
       "      <td>96.8</td>\n",
       "      <td>93.3</td>\n",
       "      <td>+3.5</td>\n",
       "      <td>W2</td>\n",
       "      <td>6-4</td>\n",
       "      <td>IND</td>\n",
       "      <td>2002-03</td>\n",
       "    </tr>\n",
       "    <tr>\n",
       "      <th>3</th>\n",
       "      <td>48</td>\n",
       "      <td>34</td>\n",
       "      <td>.585</td>\n",
       "      <td>2</td>\n",
       "      <td>25-16</td>\n",
       "      <td>23-18</td>\n",
       "      <td>17-7</td>\n",
       "      <td>0-0</td>\n",
       "      <td>96.8</td>\n",
       "      <td>94.5</td>\n",
       "      <td>+2.3</td>\n",
       "      <td>W1</td>\n",
       "      <td>5-5</td>\n",
       "      <td>PHI</td>\n",
       "      <td>2002-03</td>\n",
       "    </tr>\n",
       "    <tr>\n",
       "      <th>4</th>\n",
       "      <td>47</td>\n",
       "      <td>35</td>\n",
       "      <td>.573</td>\n",
       "      <td>3</td>\n",
       "      <td>29-12</td>\n",
       "      <td>18-23</td>\n",
       "      <td>17-11</td>\n",
       "      <td>0-0</td>\n",
       "      <td>93.9</td>\n",
       "      <td>91.8</td>\n",
       "      <td>+2.1</td>\n",
       "      <td>W5</td>\n",
       "      <td>7-3</td>\n",
       "      <td>NOH</td>\n",
       "      <td>2002-03</td>\n",
       "    </tr>\n",
       "  </tbody>\n",
       "</table>\n",
       "</div>"
      ],
      "text/plain": [
       "    W   L   PCT GB   HOME   AWAY    DIV CONF   PPG OPPPPG  DIFF STRK  L10  \\\n",
       "0  50  32  .610  -  30-11  20-21   19-9  0-0  91.4   87.7  +3.7   L1  4-6   \n",
       "1  49  33  .598  1   33-8  16-25   16-8  0-0  95.4   90.1  +5.3   L2  5-5   \n",
       "2  48  34  .585  2   32-9  16-25   19-9  0-0  96.8   93.3  +3.5   W2  6-4   \n",
       "3  48  34  .585  2  25-16  23-18   17-7  0-0  96.8   94.5  +2.3   W1  5-5   \n",
       "4  47  35  .573  3  29-12  18-23  17-11  0-0  93.9   91.8  +2.1   W5  7-3   \n",
       "\n",
       "  TEAM   SEASON  \n",
       "0  DET  2002-03  \n",
       "1  NJN  2002-03  \n",
       "2  IND  2002-03  \n",
       "3  PHI  2002-03  \n",
       "4  NOH  2002-03  "
      ]
     },
     "execution_count": 147,
     "metadata": {},
     "output_type": "execute_result"
    }
   ],
   "source": [
    "remap = {'NJ': 'NJN', 'SA': 'SAS', 'NY':'NYK', 'GS': 'GSW', 'UTAH': 'UTA'}\n",
    "\n",
    "#2013-14 is first year that New Orleans Hornets became New Orleans Pelicans\n",
    "#NO -> NOH 2002-03 - 2012-13\n",
    "#NO -> NOP 2013-14 - *\n",
    "for i, team in enumerate(team_data['TEAM']):\n",
    "    if team == 'NO':\n",
    "        if int(team_data['SEASON'][i][0:4]) < 2013:\n",
    "            team_data['TEAM'][i] = 'NOH'\n",
    "        else:\n",
    "            team_data['TEAM'][i] = 'NOP'\n",
    "\n",
    "    \n",
    "df_teams = pd.DataFrame.from_dict(team_data)\n",
    "df_teams.replace({'TEAM': remap}, inplace=True)\n",
    "df_teams.head()"
   ]
  },
  {
   "cell_type": "markdown",
   "metadata": {},
   "source": [
    "<a class='anchor' id= mvp></a>\n",
    "<h3>MVP Data</h3>\n",
    "\n",
    "<div style= 'padding: 14px 14px;'>\n",
    "The following information is to be added to the mvp dataframe:\n",
    "    <ul>\n",
    "        <li>PLAYER</li>\n",
    "        <li>MVP</li>\n",
    "        <li>CONSEC_MVP</li>\n",
    "        <li>TOTAL_MVP</li>\n",
    "        <li>SEASON</li>       \n",
    "    </ul>\n",
    "<br>\n",
    "    \n",
    "The MVP data is the easiest to scrape, because all the data is on a single webpage. There's no need to put time between requests.\n",
    "</div>"
   ]
  },
  {
   "cell_type": "code",
   "execution_count": 139,
   "metadata": {},
   "outputs": [],
   "source": [
    "mvp_data = {\n",
    "    'PLAYER': [],\n",
    "    'MVP': [],\n",
    "    'SEASON': []\n",
    "}"
   ]
  },
  {
   "cell_type": "code",
   "execution_count": 140,
   "metadata": {},
   "outputs": [],
   "source": [
    "url = \"https://www.basketball-reference.com/awards/mvp.html\"\n",
    "r = requests.get(url)\n",
    "soup = BeautifulSoup(r.content, 'html.parser')\n",
    "table = soup.find('table')\n",
    "players = table.find_all('td', attrs={\"data-stat\": \"player\"})[::-1]\n",
    "\n",
    "seasons = [ season for season in range(1955,2023) ]\n",
    "mvp_data['MVP'] = [ 1 for _ in range( len(players) ) ]\n",
    "\n",
    "for i, player in enumerate(players):\n",
    "    player = player.get_text()\n",
    "    mvp_data['PLAYER'].append(player)\n",
    "    mvp_data['SEASON'].append(str(seasons[i]) + '-' + str(seasons[i]+1)[2:]) #Key for future merge    "
   ]
  },
  {
   "cell_type": "code",
   "execution_count": 141,
   "metadata": {},
   "outputs": [
    {
     "data": {
      "text/html": [
       "<div>\n",
       "<style scoped>\n",
       "    .dataframe tbody tr th:only-of-type {\n",
       "        vertical-align: middle;\n",
       "    }\n",
       "\n",
       "    .dataframe tbody tr th {\n",
       "        vertical-align: top;\n",
       "    }\n",
       "\n",
       "    .dataframe thead th {\n",
       "        text-align: right;\n",
       "    }\n",
       "</style>\n",
       "<table border=\"1\" class=\"dataframe\">\n",
       "  <thead>\n",
       "    <tr style=\"text-align: right;\">\n",
       "      <th></th>\n",
       "      <th>PLAYER</th>\n",
       "      <th>MVP</th>\n",
       "      <th>SEASON</th>\n",
       "    </tr>\n",
       "  </thead>\n",
       "  <tbody>\n",
       "    <tr>\n",
       "      <th>0</th>\n",
       "      <td>Bob Pettit</td>\n",
       "      <td>1</td>\n",
       "      <td>1955-56</td>\n",
       "    </tr>\n",
       "    <tr>\n",
       "      <th>1</th>\n",
       "      <td>Bob Cousy</td>\n",
       "      <td>1</td>\n",
       "      <td>1956-57</td>\n",
       "    </tr>\n",
       "    <tr>\n",
       "      <th>2</th>\n",
       "      <td>Bill Russell</td>\n",
       "      <td>1</td>\n",
       "      <td>1957-58</td>\n",
       "    </tr>\n",
       "    <tr>\n",
       "      <th>3</th>\n",
       "      <td>Bob Pettit</td>\n",
       "      <td>1</td>\n",
       "      <td>1958-59</td>\n",
       "    </tr>\n",
       "    <tr>\n",
       "      <th>4</th>\n",
       "      <td>Wilt Chamberlain</td>\n",
       "      <td>1</td>\n",
       "      <td>1959-60</td>\n",
       "    </tr>\n",
       "  </tbody>\n",
       "</table>\n",
       "</div>"
      ],
      "text/plain": [
       "             PLAYER  MVP   SEASON\n",
       "0        Bob Pettit    1  1955-56\n",
       "1         Bob Cousy    1  1956-57\n",
       "2      Bill Russell    1  1957-58\n",
       "3        Bob Pettit    1  1958-59\n",
       "4  Wilt Chamberlain    1  1959-60"
      ]
     },
     "execution_count": 141,
     "metadata": {},
     "output_type": "execute_result"
    }
   ],
   "source": [
    "df_mvp = pd.DataFrame.from_dict(mvp_data)\n",
    "df_mvp.head()"
   ]
  },
  {
   "cell_type": "markdown",
   "metadata": {},
   "source": [
    "<a class='anchor' id= 'upload'></a>\n",
    "<h2 style= 'text-align: center; font-size: 32px; padding: 25px 10px; background: #DEDEDE; border-radius: 25px;'>Upload Datasets to PostgreSQL</h2>\n",
    "\n",
    "<br>\n",
    "\n",
    "<div style= 'padding: 14px 14px;'>\n",
    "Converts dataframes to tables in PostgreSQL database for later use.\n",
    "</div>"
   ]
  },
  {
   "cell_type": "code",
   "execution_count": 142,
   "metadata": {},
   "outputs": [
    {
     "data": {
      "text/plain": [
       "832"
      ]
     },
     "execution_count": 142,
     "metadata": {},
     "output_type": "execute_result"
    }
   ],
   "source": [
    "df_players.to_sql('player_data', con = engine, if_exists = 'replace') #player dataset"
   ]
  },
  {
   "cell_type": "code",
   "execution_count": 148,
   "metadata": {},
   "outputs": [
    {
     "data": {
      "text/plain": [
       "628"
      ]
     },
     "execution_count": 148,
     "metadata": {},
     "output_type": "execute_result"
    }
   ],
   "source": [
    "df_teams.to_sql('team_data', con = engine, if_exists = 'replace') #team dataset"
   ]
  },
  {
   "cell_type": "code",
   "execution_count": 144,
   "metadata": {},
   "outputs": [
    {
     "data": {
      "text/plain": [
       "68"
      ]
     },
     "execution_count": 144,
     "metadata": {},
     "output_type": "execute_result"
    }
   ],
   "source": [
    "df_mvp.to_sql('mvp_data', con = engine, if_exists = 'replace')  #mvp dataset"
   ]
  }
 ],
 "metadata": {
  "colab": {
   "provenance": []
  },
  "kernelspec": {
   "display_name": "Python 3 (ipykernel)",
   "language": "python",
   "name": "python3"
  },
  "language_info": {
   "codemirror_mode": {
    "name": "ipython",
    "version": 3
   },
   "file_extension": ".py",
   "mimetype": "text/x-python",
   "name": "python",
   "nbconvert_exporter": "python",
   "pygments_lexer": "ipython3",
   "version": "3.10.9"
  }
 },
 "nbformat": 4,
 "nbformat_minor": 1
}
