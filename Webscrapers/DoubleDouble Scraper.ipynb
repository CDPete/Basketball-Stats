{
 "cells": [
  {
   "cell_type": "code",
   "execution_count": 1,
   "id": "a3dcda28",
   "metadata": {},
   "outputs": [],
   "source": [
    "import pandas as pd\n",
    "import numpy as np\n",
    "import requests\n",
    "import time\n",
    "import psycopg2\n",
    "import random\n",
    "from sqlalchemy import create_engine\n",
    "from selenium import webdriver\n",
    "from selenium.webdriver.common.by import By\n",
    "from selenium.webdriver.support.ui import Select\n",
    "from bs4 import BeautifulSoup\n",
    "from Keyfile import key_fun #Custom file to hide postgreSQL Server information"
   ]
  },
  {
   "cell_type": "code",
   "execution_count": 2,
   "id": "4091ccd0",
   "metadata": {},
   "outputs": [],
   "source": [
    "key = key_fun()\n",
    "\n",
    "engine = create_engine('postgresql://' + key['username'] + ':' + key['pwd'] + '@localhost:' + \n",
    "                       key['port_id'] + '/' + key['database'])"
   ]
  },
  {
   "cell_type": "code",
   "execution_count": 3,
   "id": "6623a6aa",
   "metadata": {},
   "outputs": [],
   "source": [
    "driver = webdriver.Chrome()\n",
    "url = \"https://www.nba.com/stats/players/traditional?PerMode=Totals&Season=2002-03&SeasonType=Regular%20Season&dir=A&sort=PLUS_MINUS\"\n",
    "driver.get(url)"
   ]
  },
  {
   "cell_type": "code",
   "execution_count": 4,
   "id": "b4c52880",
   "metadata": {},
   "outputs": [
    {
     "data": {
      "text/plain": [
       "{0: 'PLAYER', 1: 'TEAM', 2: 'DD2', 3: 'TD3', 4: '+/-'}"
      ]
     },
     "execution_count": 4,
     "metadata": {},
     "output_type": "execute_result"
    }
   ],
   "source": [
    "src = driver.page_source\n",
    "parser = BeautifulSoup(src, 'lxml')\n",
    "table = parser.find(\"table\", attrs = {\"class\" : \"Crom_table__p1iZz\"})\n",
    "headers = table.findAll('th')\n",
    "headerlist = [h.text.strip().upper() for h in headers if not 'RANK' in h.text.strip() and h.text.strip() in ['Player', 'Team', 'DD2','TD3', '+/-']]\n",
    "header_index = {i: header for i, header in enumerate(headerlist)}\n",
    "header_index"
   ]
  },
  {
   "cell_type": "code",
   "execution_count": 5,
   "id": "5ce64240",
   "metadata": {},
   "outputs": [],
   "source": [
    "dd_data = {header: [] for header in headerlist}\n",
    "dd_data['SEASON'] = []"
   ]
  },
  {
   "cell_type": "code",
   "execution_count": 6,
   "id": "206155aa",
   "metadata": {},
   "outputs": [],
   "source": [
    "seasons = [str(x) + '-' + str(x+1)[2:] for x in range(1996,2023)]\n",
    "for season in seasons:\n",
    "    time.sleep( random.randint(1,4) + random.random() )\n",
    "    \n",
    "    url = \"https://www.nba.com/stats/players/traditional?PerMode=Totals&Season=\" + season + \\\n",
    "          \"&SeasonType=Regular+Season&dir=A&sort=PLUS_MINUS\"\n",
    "    \n",
    "    driver.get(url)\n",
    "    \n",
    "    while True:\n",
    "        try:\n",
    "            select = Select(driver.find_element(By.XPATH, \"/html/body/div[1]/div[2]/div[2]/div[3]/section[2]/div/div[2]/div[2]/div[1]/div[3]/div/label/div/select\"))\n",
    "            break\n",
    "        except:\n",
    "            time.sleep( random.randint(1,8) + random.random() )\n",
    "            driver.refresh()\n",
    "        \n",
    "    select.select_by_index(0)\n",
    "    src = driver.page_source\n",
    "    parser = BeautifulSoup(src, 'lxml')\n",
    "    table = parser.find(\"table\", attrs = {\"class\" : \"Crom_table__p1iZz\"})\n",
    "    rows = table.findAll('td')\n",
    "    stats = [row.text.strip() for i, row in enumerate(rows)  if i%30 in [1,2,27,28,29]]\n",
    "\n",
    "    \n",
    "    for i, stat in enumerate(stats):\n",
    "        i = i%5\n",
    "        dd_data[ header_index[i] ].append(stat)\n",
    "        if i == 0:\n",
    "            dd_data[ 'SEASON' ].append(season)"
   ]
  },
  {
   "cell_type": "code",
   "execution_count": 7,
   "id": "cf912277",
   "metadata": {},
   "outputs": [
    {
     "data": {
      "text/html": [
       "<div>\n",
       "<style scoped>\n",
       "    .dataframe tbody tr th:only-of-type {\n",
       "        vertical-align: middle;\n",
       "    }\n",
       "\n",
       "    .dataframe tbody tr th {\n",
       "        vertical-align: top;\n",
       "    }\n",
       "\n",
       "    .dataframe thead th {\n",
       "        text-align: right;\n",
       "    }\n",
       "</style>\n",
       "<table border=\"1\" class=\"dataframe\">\n",
       "  <thead>\n",
       "    <tr style=\"text-align: right;\">\n",
       "      <th></th>\n",
       "      <th>PLAYER</th>\n",
       "      <th>TEAM</th>\n",
       "      <th>DD2</th>\n",
       "      <th>TD3</th>\n",
       "      <th>+/-</th>\n",
       "      <th>SEASON</th>\n",
       "    </tr>\n",
       "  </thead>\n",
       "  <tbody>\n",
       "    <tr>\n",
       "      <th>0</th>\n",
       "      <td>Michael Jordan</td>\n",
       "      <td>CHI</td>\n",
       "      <td>9</td>\n",
       "      <td>1</td>\n",
       "      <td>820</td>\n",
       "      <td>1996-97</td>\n",
       "    </tr>\n",
       "    <tr>\n",
       "      <th>1</th>\n",
       "      <td>Scottie Pippen</td>\n",
       "      <td>CHI</td>\n",
       "      <td>14</td>\n",
       "      <td>0</td>\n",
       "      <td>809</td>\n",
       "      <td>1996-97</td>\n",
       "    </tr>\n",
       "    <tr>\n",
       "      <th>2</th>\n",
       "      <td>Jeff Hornacek</td>\n",
       "      <td>UTA</td>\n",
       "      <td>1</td>\n",
       "      <td>0</td>\n",
       "      <td>775</td>\n",
       "      <td>1996-97</td>\n",
       "    </tr>\n",
       "    <tr>\n",
       "      <th>3</th>\n",
       "      <td>Karl Malone</td>\n",
       "      <td>UTA</td>\n",
       "      <td>43</td>\n",
       "      <td>1</td>\n",
       "      <td>767</td>\n",
       "      <td>1996-97</td>\n",
       "    </tr>\n",
       "    <tr>\n",
       "      <th>4</th>\n",
       "      <td>Bryon Russell</td>\n",
       "      <td>UTA</td>\n",
       "      <td>3</td>\n",
       "      <td>0</td>\n",
       "      <td>681</td>\n",
       "      <td>1996-97</td>\n",
       "    </tr>\n",
       "  </tbody>\n",
       "</table>\n",
       "</div>"
      ],
      "text/plain": [
       "           PLAYER TEAM DD2 TD3  +/-   SEASON\n",
       "0  Michael Jordan  CHI   9   1  820  1996-97\n",
       "1  Scottie Pippen  CHI  14   0  809  1996-97\n",
       "2   Jeff Hornacek  UTA   1   0  775  1996-97\n",
       "3     Karl Malone  UTA  43   1  767  1996-97\n",
       "4   Bryon Russell  UTA   3   0  681  1996-97"
      ]
     },
     "execution_count": 7,
     "metadata": {},
     "output_type": "execute_result"
    }
   ],
   "source": [
    "df_dd = pd.DataFrame.from_dict(dd_data)\n",
    "df_dd.head()"
   ]
  },
  {
   "cell_type": "code",
   "execution_count": 8,
   "id": "7292ce9c",
   "metadata": {},
   "outputs": [
    {
     "data": {
      "text/plain": [
       "846"
      ]
     },
     "execution_count": 8,
     "metadata": {},
     "output_type": "execute_result"
    }
   ],
   "source": [
    "df_dd.to_sql('double2_data', con = engine, if_exists = 'replace')"
   ]
  }
 ],
 "metadata": {
  "kernelspec": {
   "display_name": "Python 3 (ipykernel)",
   "language": "python",
   "name": "python3"
  },
  "language_info": {
   "codemirror_mode": {
    "name": "ipython",
    "version": 3
   },
   "file_extension": ".py",
   "mimetype": "text/x-python",
   "name": "python",
   "nbconvert_exporter": "python",
   "pygments_lexer": "ipython3",
   "version": "3.10.9"
  }
 },
 "nbformat": 4,
 "nbformat_minor": 5
}
